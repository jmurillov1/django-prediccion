{
 "cells": [
  {
   "cell_type": "markdown",
   "metadata": {},
   "source": [
    "Práctica: Medidas descriptivas con Pandas"
   ]
  },
  {
   "cell_type": "code",
   "execution_count": null,
   "metadata": {},
   "outputs": [],
   "source": [
    "# Se puede ejecutar código al sistema operativo desde python con el caracter \"!\"\n",
    "!dir"
   ]
  },
  {
   "cell_type": "code",
   "execution_count": 4,
   "metadata": {},
   "outputs": [],
   "source": [
    "import pandas as pd\n",
    "url = 'http://manage.humdata.org/hdx/api/exporter/indicator/csv/TT014/source/mdgs/fromYear/1950/toYear/0/language/en/TT014_Baseline.csv'"
   ]
  },
  {
   "cell_type": "code",
   "execution_count": 5,
   "metadata": {},
   "outputs": [],
   "source": [
    "from_url = pd.read_table(url,sep=\",\")"
   ]
  },
  {
   "cell_type": "code",
   "execution_count": 6,
   "metadata": {},
   "outputs": [
    {
     "data": {
      "text/html": [
       "<div>\n",
       "<style scoped>\n",
       "    .dataframe tbody tr th:only-of-type {\n",
       "        vertical-align: middle;\n",
       "    }\n",
       "\n",
       "    .dataframe tbody tr th {\n",
       "        vertical-align: top;\n",
       "    }\n",
       "\n",
       "    .dataframe thead th {\n",
       "        text-align: right;\n",
       "    }\n",
       "</style>\n",
       "<table border=\"1\" class=\"dataframe\">\n",
       "  <thead>\n",
       "    <tr style=\"text-align: right;\">\n",
       "      <th></th>\n",
       "      <th>Something has gone wrong. We apologise for the inconvenience. We have logged this issue and are investigating a fix.</th>\n",
       "    </tr>\n",
       "  </thead>\n",
       "  <tbody>\n",
       "  </tbody>\n",
       "</table>\n",
       "</div>"
      ],
      "text/plain": [
       "Empty DataFrame\n",
       "Columns: [Something has gone wrong. We apologise for the inconvenience. We have logged this issue and are investigating a fix.]\n",
       "Index: []"
      ]
     },
     "execution_count": 6,
     "metadata": {},
     "output_type": "execute_result"
    }
   ],
   "source": [
    "from_url.head()"
   ]
  },
  {
   "cell_type": "code",
   "execution_count": null,
   "metadata": {},
   "outputs": [],
   "source": [
    "from_url.info()"
   ]
  },
  {
   "cell_type": "code",
   "execution_count": 4,
   "metadata": {},
   "outputs": [],
   "source": [
    "some_cols=pd.read_table(url,sep=',',usecols=[1,2,3,4,5,6,7])"
   ]
  },
  {
   "cell_type": "code",
   "execution_count": 5,
   "metadata": {},
   "outputs": [
    {
     "data": {
      "text/html": [
       "<div>\n",
       "<style scoped>\n",
       "    .dataframe tbody tr th:only-of-type {\n",
       "        vertical-align: middle;\n",
       "    }\n",
       "\n",
       "    .dataframe tbody tr th {\n",
       "        vertical-align: top;\n",
       "    }\n",
       "\n",
       "    .dataframe thead th {\n",
       "        text-align: right;\n",
       "    }\n",
       "</style>\n",
       "<table border=\"1\" class=\"dataframe\">\n",
       "  <thead>\n",
       "    <tr style=\"text-align: right;\">\n",
       "      <th></th>\n",
       "      <th>Country name</th>\n",
       "      <th>2015</th>\n",
       "      <th>2014</th>\n",
       "      <th>2013</th>\n",
       "      <th>2012</th>\n",
       "      <th>2011</th>\n",
       "      <th>2010</th>\n",
       "    </tr>\n",
       "  </thead>\n",
       "  <tbody>\n",
       "    <tr>\n",
       "      <td>0</td>\n",
       "      <td>AFGHANISTAN</td>\n",
       "      <td>27.7</td>\n",
       "      <td>27.7</td>\n",
       "      <td>27.7</td>\n",
       "      <td>27.7</td>\n",
       "      <td>27.7</td>\n",
       "      <td>27.3</td>\n",
       "    </tr>\n",
       "    <tr>\n",
       "      <td>1</td>\n",
       "      <td>ANGOLA</td>\n",
       "      <td>36.8</td>\n",
       "      <td>36.8</td>\n",
       "      <td>34.1</td>\n",
       "      <td>38.2</td>\n",
       "      <td>38.6</td>\n",
       "      <td>38.6</td>\n",
       "    </tr>\n",
       "    <tr>\n",
       "      <td>2</td>\n",
       "      <td>ALBANIA</td>\n",
       "      <td>20.7</td>\n",
       "      <td>20.0</td>\n",
       "      <td>15.7</td>\n",
       "      <td>15.7</td>\n",
       "      <td>16.4</td>\n",
       "      <td>16.4</td>\n",
       "    </tr>\n",
       "    <tr>\n",
       "      <td>3</td>\n",
       "      <td>ANDORRA</td>\n",
       "      <td>50.0</td>\n",
       "      <td>50.0</td>\n",
       "      <td>50.0</td>\n",
       "      <td>50.0</td>\n",
       "      <td>35.7</td>\n",
       "      <td>35.7</td>\n",
       "    </tr>\n",
       "    <tr>\n",
       "      <td>4</td>\n",
       "      <td>UNITED ARAB EMIRATES</td>\n",
       "      <td>17.5</td>\n",
       "      <td>17.5</td>\n",
       "      <td>17.5</td>\n",
       "      <td>17.5</td>\n",
       "      <td>22.5</td>\n",
       "      <td>22.5</td>\n",
       "    </tr>\n",
       "  </tbody>\n",
       "</table>\n",
       "</div>"
      ],
      "text/plain": [
       "           Country name  2015  2014  2013  2012  2011  2010\n",
       "0           AFGHANISTAN  27.7  27.7  27.7  27.7  27.7  27.3\n",
       "1                ANGOLA  36.8  36.8  34.1  38.2  38.6  38.6\n",
       "2               ALBANIA  20.7  20.0  15.7  15.7  16.4  16.4\n",
       "3               ANDORRA  50.0  50.0  50.0  50.0  35.7  35.7\n",
       "4  UNITED ARAB EMIRATES  17.5  17.5  17.5  17.5  22.5  22.5"
      ]
     },
     "execution_count": 5,
     "metadata": {},
     "output_type": "execute_result"
    }
   ],
   "source": [
    "some_cols.head()"
   ]
  },
  {
   "cell_type": "code",
   "execution_count": 6,
   "metadata": {},
   "outputs": [
    {
     "data": {
      "text/html": [
       "<div>\n",
       "<style scoped>\n",
       "    .dataframe tbody tr th:only-of-type {\n",
       "        vertical-align: middle;\n",
       "    }\n",
       "\n",
       "    .dataframe tbody tr th {\n",
       "        vertical-align: top;\n",
       "    }\n",
       "\n",
       "    .dataframe thead th {\n",
       "        text-align: right;\n",
       "    }\n",
       "</style>\n",
       "<table border=\"1\" class=\"dataframe\">\n",
       "  <thead>\n",
       "    <tr style=\"text-align: right;\">\n",
       "      <th></th>\n",
       "      <th>2015</th>\n",
       "      <th>2014</th>\n",
       "      <th>2013</th>\n",
       "      <th>2012</th>\n",
       "      <th>2011</th>\n",
       "      <th>2010</th>\n",
       "    </tr>\n",
       "  </thead>\n",
       "  <tbody>\n",
       "    <tr>\n",
       "      <td>count</td>\n",
       "      <td>189.000000</td>\n",
       "      <td>189.000000</td>\n",
       "      <td>190.000000</td>\n",
       "      <td>189.000000</td>\n",
       "      <td>187.000000</td>\n",
       "      <td>187.000000</td>\n",
       "    </tr>\n",
       "    <tr>\n",
       "      <td>mean</td>\n",
       "      <td>20.403704</td>\n",
       "      <td>20.137566</td>\n",
       "      <td>19.037895</td>\n",
       "      <td>18.189947</td>\n",
       "      <td>17.532086</td>\n",
       "      <td>17.381283</td>\n",
       "    </tr>\n",
       "    <tr>\n",
       "      <td>std</td>\n",
       "      <td>12.072191</td>\n",
       "      <td>11.908959</td>\n",
       "      <td>11.393488</td>\n",
       "      <td>11.420165</td>\n",
       "      <td>11.094338</td>\n",
       "      <td>11.140854</td>\n",
       "    </tr>\n",
       "    <tr>\n",
       "      <td>min</td>\n",
       "      <td>0.000000</td>\n",
       "      <td>0.000000</td>\n",
       "      <td>0.000000</td>\n",
       "      <td>0.000000</td>\n",
       "      <td>0.000000</td>\n",
       "      <td>0.000000</td>\n",
       "    </tr>\n",
       "    <tr>\n",
       "      <td>25%</td>\n",
       "      <td>12.000000</td>\n",
       "      <td>11.000000</td>\n",
       "      <td>10.700000</td>\n",
       "      <td>10.000000</td>\n",
       "      <td>9.800000</td>\n",
       "      <td>9.000000</td>\n",
       "    </tr>\n",
       "    <tr>\n",
       "      <td>50%</td>\n",
       "      <td>19.300000</td>\n",
       "      <td>18.800000</td>\n",
       "      <td>17.350000</td>\n",
       "      <td>16.800000</td>\n",
       "      <td>15.600000</td>\n",
       "      <td>15.600000</td>\n",
       "    </tr>\n",
       "    <tr>\n",
       "      <td>75%</td>\n",
       "      <td>27.400000</td>\n",
       "      <td>26.600000</td>\n",
       "      <td>24.925000</td>\n",
       "      <td>24.400000</td>\n",
       "      <td>23.500000</td>\n",
       "      <td>23.500000</td>\n",
       "    </tr>\n",
       "    <tr>\n",
       "      <td>max</td>\n",
       "      <td>63.800000</td>\n",
       "      <td>63.800000</td>\n",
       "      <td>56.300000</td>\n",
       "      <td>56.300000</td>\n",
       "      <td>56.300000</td>\n",
       "      <td>56.300000</td>\n",
       "    </tr>\n",
       "  </tbody>\n",
       "</table>\n",
       "</div>"
      ],
      "text/plain": [
       "             2015        2014        2013        2012        2011        2010\n",
       "count  189.000000  189.000000  190.000000  189.000000  187.000000  187.000000\n",
       "mean    20.403704   20.137566   19.037895   18.189947   17.532086   17.381283\n",
       "std     12.072191   11.908959   11.393488   11.420165   11.094338   11.140854\n",
       "min      0.000000    0.000000    0.000000    0.000000    0.000000    0.000000\n",
       "25%     12.000000   11.000000   10.700000   10.000000    9.800000    9.000000\n",
       "50%     19.300000   18.800000   17.350000   16.800000   15.600000   15.600000\n",
       "75%     27.400000   26.600000   24.925000   24.400000   23.500000   23.500000\n",
       "max     63.800000   63.800000   56.300000   56.300000   56.300000   56.300000"
      ]
     },
     "execution_count": 6,
     "metadata": {},
     "output_type": "execute_result"
    }
   ],
   "source": [
    "#el max y mínimo se toma de todo el conjunto de datos\n",
    "some_cols.describe()"
   ]
  },
  {
   "cell_type": "markdown",
   "metadata": {},
   "source": [
    "<count:> esta es la cantidad de valores incluidos en las estadísticas.\n",
    "\n",
    "<mean:> este es el promedio de los valores.\n",
    "\n",
    "<std:> esta es la desviación estándar de la distribución.\n",
    "\n",
    "<min:> este es el valor más bajo de la distribución.\n",
    "\n",
    "25%: este es el valor del primer cuartil. El 25 % de los valores se encuentran en o por debajo de este valor.\n",
    "\n",
    "50%: este es el valor para el segundo cuartil. El 50 % de los valores se encuentran en o por debajo de este valor. También es el valor de la mediana.\n",
    "\n",
    "75%: este es el valor para el tercer cuartil. El 75 % de los valores se encuentran en o por debajo de este valor.\n",
    "\n",
    "<max:> este es el valor más alto de la distribución."
   ]
  },
  {
   "cell_type": "code",
   "execution_count": null,
   "metadata": {},
   "outputs": [],
   "source": [
    "correl = some_cols.corr()\n",
    "correl"
   ]
  },
  {
   "cell_type": "code",
   "execution_count": null,
   "metadata": {},
   "outputs": [],
   "source": [
    "#!pip install seaborn"
   ]
  },
  {
   "cell_type": "code",
   "execution_count": null,
   "metadata": {},
   "outputs": [],
   "source": [
    "import seaborn as sns\n",
    "import matplotlib.pyplot as plt\n",
    "sns.heatmap(correl)\n",
    "plt.savefig('attribute_correlations.png', tight_layout=True)"
   ]
  },
  {
   "cell_type": "code",
   "execution_count": null,
   "metadata": {},
   "outputs": [],
   "source": []
  }
 ],
 "metadata": {
  "kernelspec": {
   "display_name": "Python 3",
   "language": "python",
   "name": "python3"
  },
  "language_info": {
   "codemirror_mode": {
    "name": "ipython",
    "version": 3
   },
   "file_extension": ".py",
   "mimetype": "text/x-python",
   "name": "python",
   "nbconvert_exporter": "python",
   "pygments_lexer": "ipython3",
   "version": "3.7.7"
  }
 },
 "nbformat": 4,
 "nbformat_minor": 2
}
